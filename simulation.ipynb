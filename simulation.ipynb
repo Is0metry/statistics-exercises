{
 "cells": [
  {
   "cell_type": "code",
   "execution_count": 17,
   "metadata": {},
   "outputs": [],
   "source": [
    "import numpy as np\n",
    "import pandas as pd\n",
    "import matplotlib.pyplot as plt\n",
    "import seaborn as sns\n",
    "%matplotlib inline\n",
    "%config InlineBackend.figure_format = 'retina'"
   ]
  },
  {
   "cell_type": "markdown",
   "metadata": {},
   "source": [
    "# Q1:\n",
    "## How likely is it that you roll doubles when rolling two dice?"
   ]
  },
  {
   "cell_type": "code",
   "execution_count": 18,
   "metadata": {},
   "outputs": [
    {
     "data": {
      "text/plain": [
       "16.65842"
      ]
     },
     "execution_count": 18,
     "metadata": {},
     "output_type": "execute_result"
    }
   ],
   "source": [
    "rng = np.random.default_rng(seed=100)\n",
    "n_rows = 10**7\n",
    "n_cols = 2\n",
    "rolls_df = pd.DataFrame(rng.choice([1,2,3,4,5,6],size= (n_rows, n_cols)),columns=['dice_1','dice_2'])\n",
    "doubles_df = rolls_df[rolls_df.dice_1 == rolls_df.dice_2]\n",
    "doubles_df.size / rolls_df.size * 100\n",
    "# doubles_df.size / rolls_df.size"
   ]
  },
  {
   "cell_type": "markdown",
   "metadata": {},
   "source": [
    "# Q2\n",
    "## If you flip 8 coins, what is the probability of getting exactly 3 heads? What is the probability of getting more than 3 heads?"
   ]
  },
  {
   "cell_type": "code",
   "execution_count": 19,
   "metadata": {},
   "outputs": [],
   "source": [
    "rng = np.random.default_rng(seed=100)\n",
    "n_cols=8\n",
    "coins_df = pd.DataFrame(rng.choice([0,1], size=(n_rows,n_cols)))"
   ]
  },
  {
   "cell_type": "code",
   "execution_count": 20,
   "metadata": {},
   "outputs": [
    {
     "name": "stdout",
     "output_type": "stream",
     "text": [
      "Probability of exactly 3 heads:\n"
     ]
    },
    {
     "data": {
      "text/plain": [
       "0.2187433"
      ]
     },
     "execution_count": 20,
     "metadata": {},
     "output_type": "execute_result"
    }
   ],
   "source": [
    "\n",
    "heads_df = coins_df[coins_df.sum(axis=1) == 3]\n",
    "print('Probability of exactly 3 heads:')\n",
    "ex_3_heads = heads_df.size / coins_df.size\n",
    "ex_3_heads\n"
   ]
  },
  {
   "cell_type": "code",
   "execution_count": 21,
   "metadata": {},
   "outputs": [
    {
     "name": "stdout",
     "output_type": "stream",
     "text": [
      "Probability of more than 3 heads:\n"
     ]
    },
    {
     "data": {
      "text/plain": [
       "0.6368396"
      ]
     },
     "execution_count": 21,
     "metadata": {},
     "output_type": "execute_result"
    }
   ],
   "source": [
    "mt_3_heads_df = coins_df[coins_df.sum(axis=1) > 3]\n",
    "print('Probability of more than 3 heads:')\n",
    "mt_3_heads = mt_3_heads_df.size / coins_df.size\n",
    "mt_3_heads\n"
   ]
  },
  {
   "cell_type": "code",
   "execution_count": 22,
   "metadata": {},
   "outputs": [
    {
     "data": {
      "text/plain": [
       "0.9999999999999999"
      ]
     },
     "execution_count": 22,
     "metadata": {},
     "output_type": "execute_result"
    }
   ],
   "source": [
    "#sanity check\n",
    "lt_3_heads = coins_df[coins_df.sum(axis=1) < 3].size / coins_df.size\n",
    "lt_3_heads + mt_3_heads + ex_3_heads"
   ]
  },
  {
   "cell_type": "markdown",
   "metadata": {},
   "source": [
    "# Q3\n",
    "## Codeup students buy, on average, 3 poptart packages with a standard deviation of 1.5 a day from the snack vending machine. If on monday the machine is restocked with 17 poptart packages, how likely is it that I will be able to buy some poptarts on Friday afternoon? "
   ]
  },
  {
   "cell_type": "code",
   "execution_count": 23,
   "metadata": {},
   "outputs": [
    {
     "data": {
      "text/plain": [
       "0.6178267"
      ]
     },
     "execution_count": 23,
     "metadata": {},
     "output_type": "execute_result"
    }
   ],
   "source": [
    "rng = np.random.default_rng(seed=100)\n",
    "n_cols = 5 #5 days in a work week, and we're assuming you're buying at end of day on Friday\n",
    "poptart_df = pd.DataFrame(rng.normal(3,1.5,(n_rows,n_cols)),columns=['Monday','Tuesday','Wednesday','Thursday','Friday'])\n",
    "poptart_df['weekly_buys'] = round(17 - poptart_df.sum(axis=1),2)\n",
    "poptart_df[poptart_df.weekly_buys >= 1].size / poptart_df.size"
   ]
  },
  {
   "cell_type": "markdown",
   "metadata": {},
   "source": [
    "# Q4 Compare Heights\n",
    "\n",
    "* Men have an average height of 178 cm and standard deviation of 8cm.\n",
    "* Women have a mean of 170, sd = 6cm.\n",
    "* Since you have means and standard deviations, you can use np.random.normal to generate observations.\n",
    "* If a man and woman are chosen at random, what is the likelihood the woman is taller than the man?"
   ]
  },
  {
   "cell_type": "code",
   "execution_count": 24,
   "metadata": {},
   "outputs": [
    {
     "data": {
      "text/plain": [
       "0.2118181"
      ]
     },
     "execution_count": 24,
     "metadata": {},
     "output_type": "execute_result"
    }
   ],
   "source": [
    "rng = np.random.default_rng(seed=100)\n",
    "men = rng.normal(178,8,n_rows)\n",
    "women = rng.normal(170, 6, n_rows)\n",
    "genders_df = pd.DataFrame({'man':men,'woman':women})\n",
    "genders_df[genders_df.man < genders_df.woman].size / genders_df.size"
   ]
  },
  {
   "cell_type": "markdown",
   "metadata": {},
   "source": [
    "# Q5\n",
    "## When installing anaconda on a student's computer, there's a 1 in 250 chance that the download is corrupted and the installation fails. What are the odds that after having 50 students download anaconda, no one has an installation issue? "
   ]
  },
  {
   "cell_type": "code",
   "execution_count": 25,
   "metadata": {},
   "outputs": [
    {
     "data": {
      "text/plain": [
       "0.8184937"
      ]
     },
     "execution_count": 25,
     "metadata": {},
     "output_type": "execute_result"
    }
   ],
   "source": [
    "#50 student simulation\n",
    "rng = np.random.default_rng(seed=100)\n",
    "n_cols = 50\n",
    "error_chance = 1/250\n",
    "simulations = rng.random(size=(n_rows,n_cols))\n",
    "error_df = pd.DataFrame(simulations <= error_chance)\n",
    "error_df[error_df.sum(axis=1) <= 0].size / error_df.size\n"
   ]
  },
  {
   "cell_type": "markdown",
   "metadata": {},
   "source": [
    "## 100 students?"
   ]
  },
  {
   "cell_type": "code",
   "execution_count": 26,
   "metadata": {},
   "outputs": [
    {
     "data": {
      "text/plain": [
       "0.6698971"
      ]
     },
     "execution_count": 26,
     "metadata": {},
     "output_type": "execute_result"
    }
   ],
   "source": [
    "#100 student simulation\n",
    "n_rows = 10 ** 7\n",
    "rng = np.random.default_rng(seed=100)\n",
    "n_cols = 100\n",
    "simulations = rng.random(size=(n_rows,n_cols))\n",
    "error_df = pd.DataFrame(simulations <= error_chance)\n",
    "error_df[error_df.sum(axis=1) <= 0].size / error_df.size\n"
   ]
  },
  {
   "cell_type": "markdown",
   "metadata": {},
   "source": [
    "## How likely is it that 450 students all download anaconda without an issue?"
   ]
  },
  {
   "cell_type": "code",
   "execution_count": 27,
   "metadata": {},
   "outputs": [
    {
     "data": {
      "text/plain": [
       "0.1647311"
      ]
     },
     "execution_count": 27,
     "metadata": {},
     "output_type": "execute_result"
    }
   ],
   "source": [
    "#100 student simulation\n",
    "rng = np.random.default_rng(seed=100)\n",
    "n_cols = 450\n",
    "simulations = rng.random(size=(n_rows,n_cols))\n",
    "error_df = pd.DataFrame(simulations <= error_chance)\n",
    "error_df[error_df.sum(axis=1) <= 0].size / error_df.size\n"
   ]
  },
  {
   "cell_type": "markdown",
   "metadata": {},
   "source": [
    "# Q6\n",
    "## There's a 70% chance on any given day that there will be at least one food truck at Travis Park. However, you haven't seen a food truck there in 3 days. How unlikely is this?"
   ]
  },
  {
   "cell_type": "code",
   "execution_count": 28,
   "metadata": {},
   "outputs": [
    {
     "data": {
      "text/plain": [
       "0.0270405"
      ]
     },
     "execution_count": 28,
     "metadata": {},
     "output_type": "execute_result"
    }
   ],
   "source": [
    "rng = np.random.default_rng(seed=100)\n",
    "n_cols = 3\n",
    "truck_chance = .3\n",
    "truck_there = rng.random(size=(n_rows,n_cols))\n",
    "truck_df = pd.DataFrame(truck_there > .3)\n",
    "truck_df[truck_df.sum(axis=1) == 0].count()[0] / truck_df.count()[0]\n"
   ]
  },
  {
   "cell_type": "markdown",
   "metadata": {},
   "source": [
    "## How likely is it that a food truck will show up sometime this week?"
   ]
  },
  {
   "cell_type": "code",
   "execution_count": 29,
   "metadata": {},
   "outputs": [
    {
     "data": {
      "text/plain": [
       "0.9997842"
      ]
     },
     "execution_count": 29,
     "metadata": {},
     "output_type": "execute_result"
    }
   ],
   "source": [
    "rng = np.random.default_rng(seed=100)\n",
    "n_cols = 7\n",
    "truck_odds = rng.random(size=(n_rows,n_cols))\n",
    "truck_df = pd.DataFrame(truck_odds <= .7)\n",
    "truck_df[truck_df.sum(axis=1) >0].count()[0] / truck_df.count()[0]"
   ]
  },
  {
   "cell_type": "markdown",
   "metadata": {},
   "source": [
    "# Q7\n",
    "## If 23 people are in the same room, what are the odds that two of them share a birthday? "
   ]
  },
  {
   "cell_type": "code",
   "execution_count": 30,
   "metadata": {},
   "outputs": [
    {
     "data": {
      "text/plain": [
       "0.507292"
      ]
     },
     "execution_count": 30,
     "metadata": {},
     "output_type": "execute_result"
    }
   ],
   "source": [
    "\n",
    "rng = np.random.default_rng(seed=100)\n",
    "n_cols = 23\n",
    "birthdays = list(range(1,366))\n",
    "birthday_df = pd.DataFrame(rng.choice(birthdays,size=(n_rows,n_cols)))\n",
    "birthday_df['shared_birthday'] = birthday_df.apply(lambda row: len(row.unique()) < n_cols, axis=1)\n",
    "birthday_df['shared_birthday'].sum() / birthday_df.shared_birthday.count()\n"
   ]
  },
  {
   "cell_type": "markdown",
   "metadata": {},
   "source": [
    "## What if it's 20 people?"
   ]
  },
  {
   "cell_type": "code",
   "execution_count": 31,
   "metadata": {},
   "outputs": [
    {
     "data": {
      "text/plain": [
       "0.4114887"
      ]
     },
     "execution_count": 31,
     "metadata": {},
     "output_type": "execute_result"
    }
   ],
   "source": [
    "n_cols = 20\n",
    "birthday_df = pd.DataFrame(rng.choice(birthdays,size=(n_rows,n_cols)))\n",
    "birthday_df['shared_birthday'] = birthday_df.apply(lambda row: len(row.unique()) < n_cols, axis=1)\n",
    "birthday_df['shared_birthday'].sum() / birthday_df.shared_birthday.count()"
   ]
  },
  {
   "cell_type": "markdown",
   "metadata": {},
   "source": [
    "## 40?"
   ]
  },
  {
   "cell_type": "code",
   "execution_count": 32,
   "metadata": {},
   "outputs": [
    {
     "data": {
      "text/plain": [
       "0.8913405"
      ]
     },
     "execution_count": 32,
     "metadata": {},
     "output_type": "execute_result"
    }
   ],
   "source": [
    "n_cols = 40\n",
    "birthday_df = pd.DataFrame(rng.choice(birthdays,size=(n_rows,n_cols)))\n",
    "birthday_df['shared_birthday'] = birthday_df.apply(lambda row: len(row.unique()) < n_cols, axis=1)\n",
    "birthday_df['shared_birthday'].sum() / birthday_df.shared_birthday.count()"
   ]
  }
 ],
 "metadata": {
  "kernelspec": {
   "display_name": "Python 3.9.12 ('base')",
   "language": "python",
   "name": "python3"
  },
  "language_info": {
   "codemirror_mode": {
    "name": "ipython",
    "version": 3
   },
   "file_extension": ".py",
   "mimetype": "text/x-python",
   "name": "python",
   "nbconvert_exporter": "python",
   "pygments_lexer": "ipython3",
   "version": "3.9.12"
  },
  "orig_nbformat": 4,
  "vscode": {
   "interpreter": {
    "hash": "3067ead486e059ec00ffe7555bdb889e6e264a24dc711bf108106cc7baee8d5d"
   }
  }
 },
 "nbformat": 4,
 "nbformat_minor": 2
}
