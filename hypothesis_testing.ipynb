{
 "cells": [
  {
   "cell_type": "markdown",
   "metadata": {},
   "source": [
    "# Overview"
   ]
  },
  {
   "cell_type": "markdown",
   "metadata": {},
   "source": [
    "### For each of the following questions, formulate a null and alternative hypothesis (be as specific as you can be), then give an example of what a true positive, true negative, type I and type II errors would look like. Note that some of the questions are intentionally phrased in a vague way. It is your job to reword these as more precise questions that could be tested."
   ]
  },
  {
   "cell_type": "markdown",
   "metadata": {},
   "source": [
    "## Q1-Has the network latency gone up since we switched internet service providers?"
   ]
  },
  {
   "cell_type": "markdown",
   "metadata": {},
   "source": [
    "$H_{0}$ - Network latency (ping) has not increased since changing ISPs\n",
    "\n",
    "$H_{a}$ - Ping has increased since changing \n",
    "ISPs\n",
    "\n",
    "$\\mu_{Provider A} \\le \\mu_{Provider B}$\n",
    "\n",
    "$H_{0}$| $H_{0}$ is True | $H_{0}$ is false\n",
    "---|---|---\n",
    "Accept $H_{0}$ | Latency went up and we said it did | Type I: Latency didn't go up and we said it did\n",
    "Reject $H_{0}$ | Type II: Latency went up when we said it didn't| Latency did not increase and we said it didn't\n",
    " \n"
   ]
  },
  {
   "cell_type": "markdown",
   "metadata": {},
   "source": [
    "## Q2 - Is the website redesign any good?"
   ]
  },
  {
   "cell_type": "markdown",
   "metadata": {},
   "source": [
    "$H_{0}: \\mu_{0} \\ge \\mu_{1}$ - Visitors spend the same amount of time or less on the old_site vs. the new site\n",
    "\n",
    "$H_{a}: \\mu_{0} < \\mu_{1}$ - Visitors spend more time on the new site than on the old site\n",
    "\n",
    "$\\mu_0 =$ page views before site redesign\n",
    "\n",
    "$\\mu_1 = $ page views after site redesign"
   ]
  },
  {
   "cell_type": "markdown",
   "metadata": {},
   "source": [
    "$H_{0}$| $H_{0}$ is True | $H_{0}$ is false\n",
    "---|---|---\n",
    "Accept $H_{0}$ | Correctly conclude that the website's redesign has lead to an increase in customer satisfaction scores | Type I: Incorrectly conclude that the redesign has lead to an increase in customer satisfaction scores when it does not appear to be correlated\n",
    "Reject $H_{0}$ | Type II: incorrectly conclude that an increase in customer satisfaction scores cannot attributed to the website redesign | correctly conclude that the increase in customer satisfaction scores cannot be attributed to an increase in customer satisfaction scores"
   ]
  },
  {
   "cell_type": "markdown",
   "metadata": {},
   "source": [
    "## Q4-Is our television ad driving more sales?"
   ]
  },
  {
   "cell_type": "markdown",
   "metadata": {},
   "source": [
    "$H_{0}$- Our television ad cannot be linked to a statistically significant increase in sales\n",
    "$H_{a}$- Our television ad can be linked to a statistically significant increase in sales"
   ]
  },
  {
   "cell_type": "markdown",
   "metadata": {},
   "source": [
    "$H_{0}$| $H_{0}$ is True | $H_{0}$ is false\n",
    "---|---|---\n",
    "Accept $H_{0}$ | |\n",
    "Reject $H_{0}$ | |"
   ]
  },
  {
   "cell_type": "markdown",
   "metadata": {},
   "source": []
  }
 ],
 "metadata": {
  "kernelspec": {
   "display_name": "Python 3.9.12 ('base')",
   "language": "python",
   "name": "python3"
  },
  "language_info": {
   "codemirror_mode": {
    "name": "ipython",
    "version": 3
   },
   "file_extension": ".py",
   "mimetype": "text/x-python",
   "name": "python",
   "nbconvert_exporter": "python",
   "pygments_lexer": "ipython3",
   "version": "3.9.12"
  },
  "orig_nbformat": 4,
  "vscode": {
   "interpreter": {
    "hash": "3067ead486e059ec00ffe7555bdb889e6e264a24dc711bf108106cc7baee8d5d"
   }
  }
 },
 "nbformat": 4,
 "nbformat_minor": 2
}
